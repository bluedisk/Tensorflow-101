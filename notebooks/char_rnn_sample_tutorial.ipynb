{
 "cells": [
  {
   "cell_type": "code",
   "execution_count": 1,
   "metadata": {
    "collapsed": false
   },
   "outputs": [
    {
     "name": "stdout",
     "output_type": "stream",
     "text": [
      "Packages Imported\n"
     ]
    }
   ],
   "source": [
    "# Import Packages\n",
    "import numpy as np\n",
    "import tensorflow as tf\n",
    "import collections\n",
    "import argparse\n",
    "import time\n",
    "import os\n",
    "#from six.moves import cPickle\n",
    "import pickle\n",
    "print (\"Packages Imported\")"
   ]
  },
  {
   "cell_type": "code",
   "execution_count": 2,
   "metadata": {
    "collapsed": false
   },
   "outputs": [
    {
     "name": "stdout",
     "output_type": "stream",
     "text": [
      "'vocab_size' is 98\n"
     ]
    }
   ],
   "source": [
    "# Load chars and vocab\n",
    "load_dir = \"data/linux_kernel\"\n",
    "with open(os.path.join(load_dir, 'chars_vocab.pkl'), 'rb') as f:\n",
    "    chars, vocab = pickle.load(f, errors='ignore')\n",
    "vocab_size = len(vocab) \n",
    "print (\"'vocab_size' is %d\" % (vocab_size))"
   ]
  },
  {
   "cell_type": "markdown",
   "metadata": {},
   "source": [
    "## Now, we are ready to make our RNN model with seq2seq\n",
    "### This network is for sampling, so we don't need batches for sequenes nor optimizers"
   ]
  },
  {
   "cell_type": "code",
   "execution_count": 3,
   "metadata": {
    "collapsed": false
   },
   "outputs": [
    {
     "name": "stdout",
     "output_type": "stream",
     "text": [
      "Network Ready\n"
     ]
    }
   ],
   "source": [
    "# Important RNN parameters \n",
    "rnn_size   = 128\n",
    "num_layers = 2\n",
    "\n",
    "batch_size = 1 # <= In the training phase, these were both 50\n",
    "seq_length = 1\n",
    "\n",
    "tf.reset_default_graph()\n",
    "\n",
    "# Construct RNN model \n",
    "unitcell   = tf.contrib.rnn.BasicLSTMCell(rnn_size)\n",
    "cell       = tf.contrib.rnn.MultiRNNCell([unitcell] * num_layers)\n",
    "input_data = tf.placeholder(tf.int32, [batch_size, seq_length])\n",
    "istate     = cell.zero_state(batch_size, tf.float32)\n",
    "\n",
    "# Weigths \n",
    "with tf.variable_scope('rnnlm'):\n",
    "    softmax_w = tf.get_variable(\"softmax_w\", [rnn_size, vocab_size])\n",
    "    softmax_b = tf.get_variable(\"softmax_b\", [vocab_size])\n",
    "    \n",
    "    with tf.device(\"/cpu:0\"):\n",
    "        embedding = tf.get_variable(\"embedding\", [vocab_size, rnn_size])\n",
    "        inputs = tf.split( tf.nn.embedding_lookup(embedding, input_data), seq_length, 1)\n",
    "        inputs = [tf.squeeze(_input, [1]) for _input in inputs]\n",
    "        \n",
    "outputs, final_state = tf.contrib.legacy_seq2seq.rnn_decoder(inputs, istate, cell\n",
    "                                          , loop_function=None, scope='rnnlm')\n",
    "output = tf.reshape(tf.concat_v2(outputs,1 ), [-1, rnn_size])\n",
    "\n",
    "logits = tf.nn.xw_plus_b(output, softmax_w, softmax_b)\n",
    "probs  = tf.nn.softmax(logits)\n",
    "\n",
    "print (\"Network Ready\")"
   ]
  },
  {
   "cell_type": "code",
   "execution_count": 5,
   "metadata": {
    "collapsed": false
   },
   "outputs": [
    {
     "name": "stdout",
     "output_type": "stream",
     "text": [
      "data/linux_kernel/model.ckpt-0\n"
     ]
    }
   ],
   "source": [
    "# Restore RNN\n",
    "sess = tf.Session()\n",
    "sess.run(tf.global_variables_initializer())\n",
    "saver = tf.train.Saver(tf.global_variables())\n",
    "ckpt  = tf.train.get_checkpoint_state(load_dir)\n",
    "\n",
    "print (ckpt.model_checkpoint_path)\n",
    "saver.restore(sess, ckpt.model_checkpoint_path)\n"
   ]
  },
  {
   "cell_type": "markdown",
   "metadata": {},
   "source": [
    "# Finally, show what RNN has generated! "
   ]
  },
  {
   "cell_type": "code",
   "execution_count": 6,
   "metadata": {
    "collapsed": false
   },
   "outputs": [
    {
     "name": "stdout",
     "output_type": "stream",
     "text": [
      "Sampling Done. \n",
      "___________________________________________\n",
      "\n",
      "/* .\n",
      ";otåjs[y%dgVi;XZ[\n",
      "}B+<%(t<$luM?Z8Fg%43_.F&`M>Ha;9Z`4)V;-ZXC*3:2zTe;ts{dbWR!9M3;&GRqGSz.4MR<t+kZpZ7J[yyd+a;{Z:d$KvGGd*tåF[osrt yw;#&\n",
      "7GV<lålRTes_LO<CW=ge{ipj<M\n",
      "<RyH-y3a!9! *9*[åG1Np3O5As=l<u_1å-$\n",
      "g1?+yje<|J1_##VJdMdZ,;;$ZTeGå$y<*_M8HD$}RJ#;M(tRV.p%-*e4:7O.Gzyg%wGF#s1T%Lå1[:J%p.VV:*tl1d_wyhTpW%Myag#*3#V_2-y!$SsR}1V;j*%,x`<-kp$Z*$q'9_*Gta-p{0R%*wH3By[aZ 0_H,.mgVvtKZ$\\l< \n",
      "H1J-pG,Z\\2r<%7å.$G0såi.,GgOgHå,z:,eKvyTt0je'M%N3{KSA0y#9åe_ksM,{_og*RgOZK%_Be-j7$\\~<[t tE#\teå-0ts9gd_:%#<dz9?G,ly:#{uVepj\t_K7be1 t I2dG0.<;g_-u_,:M3%_t1&Mk{1\n",
      "d,Yåo09*$dJBBY%9g`q|,##a[M5X$. X3sy+SåT#;:<p*,9dZG;åzåGG1å_TT9%|0ps#y4{dS$-+;:e#g?:#g1V`t0Z(peaKps.TOl<RG|gF4j.=M?$]*.l1-Ku.TuF%2G+#Nyv\"KdN.<lKelVyoH__zMp_1Z,_<eåvpp+HdOgdd-:Td eO0BåGaJ$Z%,yygttye.G,åetGJug;\n",
      "gOGZje<:,gk'*#SJsy%V+[å1å7åZ$u9J#ld%d1ho_-\"Ze~,yl{__}1U$-V0[p[Z__K,Ks%lZ-Z_{#}LgCs.d\n",
      "G84H';sH*!1$;#,,#q9*+_9åd_37]3xs|.t.Ju;ep.J<lK_eg%p$bTe-RgptxZ'|eLw_,vT C--y;:R>:32;V Vq.mzGå1;|9b,B<L-=RGGb9$0Lånå_[Ru|-_y,#%på0g3:,;%$dgV9dl*?RX#Ghns9 $$e{%T[KFJ_yed=Ca-{ey$s\n"
     ]
    }
   ],
   "source": [
    "# Sampling function\n",
    "def weighted_pick(weights):\n",
    "    t = np.cumsum(weights)\n",
    "    s = np.sum(weights)\n",
    "    return(int(np.searchsorted(t, np.random.rand(1)*s)))\n",
    "\n",
    "# Sample using RNN and prime characters\n",
    "prime = \"/* \"\n",
    "state = sess.run(cell.zero_state(1, tf.float32))\n",
    "for char in prime[:-1]:\n",
    "    x = np.zeros((1, 1))\n",
    "    x[0, 0] = vocab[char]\n",
    "    state = sess.run(final_state, feed_dict={input_data: x, istate:state})\n",
    "\n",
    "# Sample 'num' characters\n",
    "ret  = prime\n",
    "char = prime[-1] # <= This goes IN! \n",
    "num  = 1000\n",
    "for n in range(num):\n",
    "    x = np.zeros((1, 1))\n",
    "    x[0, 0] = vocab[char]\n",
    "    [probsval, state] = sess.run([probs, final_state]\n",
    "        , feed_dict={input_data: x, istate:state})\n",
    "    p      = probsval[0] \n",
    "    \n",
    "    sample = weighted_pick(p)\n",
    "    # sample = np.argmax(p)\n",
    "    \n",
    "    pred   = chars[sample]\n",
    "    ret    = ret + pred\n",
    "    char   = pred\n",
    "    \n",
    "print (\"Sampling Done. \\n___________________________________________\\n\")\n",
    "\n",
    "print (ret)"
   ]
  },
  {
   "cell_type": "markdown",
   "metadata": {},
   "source": [
    "# Hope, it was good. "
   ]
  }
 ],
 "metadata": {
  "kernelspec": {
   "display_name": "Python 3",
   "language": "python",
   "name": "python3"
  },
  "language_info": {
   "codemirror_mode": {
    "name": "ipython",
    "version": 3
   },
   "file_extension": ".py",
   "mimetype": "text/x-python",
   "name": "python",
   "nbconvert_exporter": "python",
   "pygments_lexer": "ipython3",
   "version": "3.5.2"
  }
 },
 "nbformat": 4,
 "nbformat_minor": 0
}
